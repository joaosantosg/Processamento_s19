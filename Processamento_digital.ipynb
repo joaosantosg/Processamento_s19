{
  "nbformat": 4,
  "nbformat_minor": 0,
  "metadata": {
    "colab": {
      "provenance": []
    },
    "kernelspec": {
      "name": "python3",
      "display_name": "Python 3"
    },
    "language_info": {
      "name": "python"
    }
  },
  "cells": [
    {
      "cell_type": "code",
      "execution_count": 6,
      "metadata": {
        "colab": {
          "base_uri": "https://localhost:8080/"
        },
        "id": "KFbefEqkpEG1",
        "outputId": "71c511a2-be0a-4f68-ad2f-3debe0ee592f"
      },
      "outputs": [
        {
          "output_type": "stream",
          "name": "stdout",
          "text": [
            "Requirement already satisfied: gdown in /usr/local/lib/python3.10/dist-packages (5.2.0)\n",
            "Requirement already satisfied: pillow in /usr/local/lib/python3.10/dist-packages (11.0.0)\n",
            "Requirement already satisfied: beautifulsoup4 in /usr/local/lib/python3.10/dist-packages (from gdown) (4.12.3)\n",
            "Requirement already satisfied: filelock in /usr/local/lib/python3.10/dist-packages (from gdown) (3.16.1)\n",
            "Requirement already satisfied: requests[socks] in /usr/local/lib/python3.10/dist-packages (from gdown) (2.32.3)\n",
            "Requirement already satisfied: tqdm in /usr/local/lib/python3.10/dist-packages (from gdown) (4.66.6)\n",
            "Requirement already satisfied: soupsieve>1.2 in /usr/local/lib/python3.10/dist-packages (from beautifulsoup4->gdown) (2.6)\n",
            "Requirement already satisfied: charset-normalizer<4,>=2 in /usr/local/lib/python3.10/dist-packages (from requests[socks]->gdown) (3.4.0)\n",
            "Requirement already satisfied: idna<4,>=2.5 in /usr/local/lib/python3.10/dist-packages (from requests[socks]->gdown) (3.10)\n",
            "Requirement already satisfied: urllib3<3,>=1.21.1 in /usr/local/lib/python3.10/dist-packages (from requests[socks]->gdown) (2.2.3)\n",
            "Requirement already satisfied: certifi>=2017.4.17 in /usr/local/lib/python3.10/dist-packages (from requests[socks]->gdown) (2024.8.30)\n",
            "Requirement already satisfied: PySocks!=1.5.7,>=1.5.6 in /usr/local/lib/python3.10/dist-packages (from requests[socks]->gdown) (1.7.1)\n"
          ]
        },
        {
          "output_type": "stream",
          "name": "stderr",
          "text": [
            "Downloading...\n",
            "From: https://drive.google.com/uc?id=1YXj5PcIN88o312lzXlgaYxBTaeAgAiiL\n",
            "To: /content/brasil.png\n",
            "\n",
            "100%|██████████| 1.00M/1.00M [00:00<00:00, 113MB/s]"
          ]
        },
        {
          "output_type": "stream",
          "name": "stdout",
          "text": [
            "Quantidade total de pixels: 6001875\n",
            "Quantidade de pixels sem dados: 3615505\n",
            "Quantidade de pixels - plantio de soja: 113866\n",
            "Quantidade de pixels - pastagem: 462062\n",
            "\n",
            "Área de plantio de soja: 40633111.09 hectares (113866 pixels)\n",
            "Área de cobertura de pastagem: 164886942.33 hectares (462062 pixels)\n"
          ]
        },
        {
          "output_type": "stream",
          "name": "stderr",
          "text": [
            "\n"
          ]
        }
      ],
      "source": [
        "# Seguinte, sua imagem TIFF é gigantesca, consumiu 12gb de ram do collab e não funcionou, 23gb da minha maquina e não funcionou.\n",
        "# Sugiro para as próximas se atentar aos arquivos enviados para os alunos, poupando assim a vida util de suas máquinas. :)\n",
        "# Fora isso para que o código funcione, conseguimos a imagem na sua CAMADA PRINCIPAL E útil, sendo todas as demais inúteis ou irrelevantes para a execução do código.\n",
        "\n",
        "# Enjoy the code.\n",
        "\n",
        "!pip install gdown pillow\n",
        "\n",
        "import numpy as np\n",
        "from PIL import Image\n",
        "import gdown\n",
        "\n",
        "# Link do Google Drive corrigido\n",
        "drive_url = \"https://drive.google.com/uc?id=1YXj5PcIN88o312lzXlgaYxBTaeAgAiiL\"\n",
        "output_file = \"brasil.png\"\n",
        "\n",
        "gdown.download(drive_url, output_file, quiet=False, fuzzy=True)\n",
        "\n",
        "try:\n",
        "    image = Image.open(output_file)\n",
        "    image_array = np.array(image)\n",
        "\n",
        "    def count_pixels_by_code(image_array, code):\n",
        "        return np.sum(image_array == code)\n",
        "\n",
        "    total_pixels = image_array.size\n",
        "    pixels_no_data = count_pixels_by_code(image_array, 0)\n",
        "    pixels_soy = count_pixels_by_code(image_array, 39)\n",
        "    pixels_pasture = count_pixels_by_code(image_array, 15)\n",
        "\n",
        "    print(f\"Quantidade total de pixels: {total_pixels}\")\n",
        "    print(f\"Quantidade de pixels sem dados: {pixels_no_data}\")\n",
        "    print(f\"Quantidade de pixels - plantio de soja: {pixels_soy}\")\n",
        "    print(f\"Quantidade de pixels - pastagem: {pixels_pasture}\")\n",
        "\n",
        "\n",
        "    area_brasil_ha = 851576742.0\n",
        "\n",
        "    pixels_with_data = total_pixels - pixels_no_data\n",
        "\n",
        "    percent_soy = pixels_soy / pixels_with_data\n",
        "    percent_pasture = pixels_pasture / pixels_with_data\n",
        "\n",
        "    area_soy_ha = percent_soy * area_brasil_ha\n",
        "    area_pasture_ha = percent_pasture * area_brasil_ha\n",
        "\n",
        "    print(f\"\\nÁrea de plantio de soja: {area_soy_ha:.2f} hectares ({pixels_soy} pixels)\")\n",
        "    print(f\"Área de cobertura de pastagem: {area_pasture_ha:.2f} hectares ({pixels_pasture} pixels)\")\n",
        "\n",
        "except Exception as e:\n",
        "    print(f\"Erro ao processar a imagem: {e}\")\n"
      ]
    },
    {
      "cell_type": "markdown",
      "source": [],
      "metadata": {
        "id": "H8h14Zf-ucEQ"
      }
    }
  ]
}